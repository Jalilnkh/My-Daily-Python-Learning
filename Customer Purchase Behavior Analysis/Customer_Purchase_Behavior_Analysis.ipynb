{
 "cells": [
  {
   "cell_type": "markdown",
   "metadata": {},
   "source": [
    "# Customer Purchase Behavior Analysis - A Real Case Study"
   ]
  },
  {
   "cell_type": "markdown",
   "metadata": {},
   "source": [
    "### Probabilistic Modeling + Statistics on the Online Retail Dataset\n",
    "This notebook explores customer purchase patterns using:\n",
    "- Descriptive statistics: mean, median, mode, variance, std\n",
    "- Distributions: Gaussian (normal) & Binomial\n",
    "- Classifier: Naive Bayes to predict “high value” customers\n",
    "- Visuals: histograms, KDEs, QQ plots, confusion matrix\n"
   ]
  },
  {
   "cell_type": "markdown",
   "metadata": {},
   "source": [
    "## 1) Setup\n",
    "Install all related requirments"
   ]
  },
  {
   "cell_type": "code",
   "execution_count": 2,
   "metadata": {},
   "outputs": [],
   "source": [
    "%%capture\n",
    "!pip install pandas ucimlrepo numpy matplotlib seaborn scikit-learn scipy openpyxl --quiet"
   ]
  },
  {
   "cell_type": "code",
   "execution_count": 3,
   "metadata": {},
   "outputs": [],
   "source": [
    "import numpy as np\n",
    "import pandas as pd\n",
    "import matplotlib.pyplot as plt\n",
    "import seaborn as sns\n",
    "\n",
    "\n",
    "from pathlib import Path\n",
    "from scipy import stats\n",
    "from sklearn.model_selection import train_test_split\n",
    "from sklearn.preprocessing import StandardScaler, OneHotEncoder\n",
    "from sklearn.compose import ColumnTransformer\n",
    "from sklearn.pipeline import Pipeline\n",
    "from sklearn.naive_bayes import GaussianNB\n",
    "from sklearn.metrics import classification_report, ConfusionMatrixDisplay\n",
    "\n",
    "\n",
    "sns.set(style=\"whitegrid\") # Specifies a visual style for the plots. It sets the background to white with a gray grid\n",
    "RANDOM_STATE = 42\n",
    "np.random.seed(RANDOM_STATE) # When you use the same seed, the sequence of \"random\" numbers generated will be identical every time\n"
   ]
  },
  {
   "cell_type": "markdown",
   "metadata": {},
   "source": [
    "## 2) Load data"
   ]
  },
  {
   "cell_type": "code",
   "execution_count": 4,
   "metadata": {},
   "outputs": [],
   "source": [
    "from ucimlrepo import fetch_ucirepo \n",
    "  \n",
    "# fetch dataset \n",
    "online_retail = fetch_ucirepo(id=352) \n",
    "  \n",
    "# data (as pandas dataframes) \n",
    "X = online_retail.data.features \n",
    "y = online_retail.data.targets "
   ]
  },
  {
   "cell_type": "code",
   "execution_count": 5,
   "metadata": {},
   "outputs": [
    {
     "name": "stdout",
     "output_type": "stream",
     "text": [
      "{'uci_id': 352, 'name': 'Online Retail', 'repository_url': 'https://archive.ics.uci.edu/dataset/352/online+retail', 'data_url': 'https://archive.ics.uci.edu/static/public/352/data.csv', 'abstract': 'This is a transactional data set which contains all the transactions occurring between 01/12/2010 and 09/12/2011 for a UK-based and registered non-store online retail.', 'area': 'Business', 'tasks': ['Classification', 'Clustering'], 'characteristics': ['Multivariate', 'Sequential', 'Time-Series'], 'num_instances': 541909, 'num_features': 6, 'feature_types': ['Integer', 'Real'], 'demographics': [], 'target_col': None, 'index_col': ['InvoiceNo', 'StockCode'], 'has_missing_values': 'no', 'missing_values_symbol': None, 'year_of_dataset_creation': 2015, 'last_updated': 'Mon Oct 21 2024', 'dataset_doi': '10.24432/C5BW33', 'creators': ['Daqing Chen'], 'intro_paper': {'ID': 361, 'type': 'NATIVE', 'title': 'Data mining for the online retail industry: A case study of RFM model-based customer segmentation using data mining', 'authors': 'Daqing Chen, Sai Laing Sain, Kun Guo', 'venue': 'Journal of Database Marketing and Customer Strategy Management, Vol. 19, No. 3', 'year': 2012, 'journal': None, 'DOI': '10.1057/dbm.2012.17', 'URL': 'https://www.semanticscholar.org/paper/e43a5a90fa33d419df42e485099f8f08badf2149', 'sha': None, 'corpus': None, 'arxiv': None, 'mag': None, 'acl': None, 'pmid': None, 'pmcid': None}, 'additional_info': {'summary': 'This is a transactional data set which contains all the transactions occurring between 01/12/2010 and 09/12/2011 for a UK-based and registered non-store online retail.The company mainly sells unique all-occasion gifts. Many customers of the company are wholesalers.', 'purpose': None, 'funded_by': None, 'instances_represent': None, 'recommended_data_splits': None, 'sensitive_data': None, 'preprocessing_description': None, 'variable_info': \"InvoiceNo: Invoice number. Nominal, a 6-digit integral number uniquely assigned to each transaction. If this code starts with letter 'c', it indicates a cancellation. \\nStockCode: Product (item) code. Nominal, a 5-digit integral number uniquely assigned to each distinct product.\\nDescription: Product (item) name. Nominal.\\nQuantity: The quantities of each product (item) per transaction. Numeric.\\t\\nInvoiceDate: Invoice Date and time. Numeric, the day and time when each transaction was generated.\\nUnitPrice: Unit price. Numeric, Product price per unit in sterling.\\nCustomerID: Customer number. Nominal, a 5-digit integral number uniquely assigned to each customer.\\nCountry: Country name. Nominal, the name of the country where each customer resides. \", 'citation': None}}\n"
     ]
    }
   ],
   "source": [
    "# metadata \n",
    "print(online_retail.metadata)"
   ]
  },
  {
   "cell_type": "code",
   "execution_count": 6,
   "metadata": {},
   "outputs": [
    {
     "name": "stdout",
     "output_type": "stream",
     "text": [
      "          name     role         type demographic  \\\n",
      "0    InvoiceNo       ID  Categorical        None   \n",
      "1    StockCode       ID  Categorical        None   \n",
      "2  Description  Feature  Categorical        None   \n",
      "3     Quantity  Feature      Integer        None   \n",
      "4  InvoiceDate  Feature         Date        None   \n",
      "5    UnitPrice  Feature   Continuous        None   \n",
      "6   CustomerID  Feature  Categorical        None   \n",
      "7      Country  Feature  Categorical        None   \n",
      "\n",
      "                                         description     units missing_values  \n",
      "0  a 6-digit integral number uniquely assigned to...      None             no  \n",
      "1  a 5-digit integral number uniquely assigned to...      None             no  \n",
      "2                                       product name      None             no  \n",
      "3  the quantities of each product (item) per tran...      None             no  \n",
      "4  the day and time when each transaction was gen...      None             no  \n",
      "5                             product price per unit  sterling             no  \n",
      "6  a 5-digit integral number uniquely assigned to...      None             no  \n",
      "7  the name of the country where each customer re...      None             no  \n"
     ]
    }
   ],
   "source": [
    "# variable information \n",
    "print(online_retail.variables) "
   ]
  },
  {
   "cell_type": "markdown",
   "metadata": {},
   "source": [
    "## 3) Basic cleaning & feature engineering\n",
    "Each data needs especific cleaning and filtering so it is better to know about data and what we have in the dataset.\n",
    "- Keep positive quantities & prices\n",
    "- Drop rows with missing CustomerID\n",
    "- Parse datetimes\n",
    "- Create TotalPrice and per-invoice features\n"
   ]
  },
  {
   "cell_type": "code",
   "execution_count": 9,
   "metadata": {},
   "outputs": [
    {
     "data": {
      "text/html": [
       "<div>\n",
       "<style scoped>\n",
       "    .dataframe tbody tr th:only-of-type {\n",
       "        vertical-align: middle;\n",
       "    }\n",
       "\n",
       "    .dataframe tbody tr th {\n",
       "        vertical-align: top;\n",
       "    }\n",
       "\n",
       "    .dataframe thead th {\n",
       "        text-align: right;\n",
       "    }\n",
       "</style>\n",
       "<table border=\"1\" class=\"dataframe\">\n",
       "  <thead>\n",
       "    <tr style=\"text-align: right;\">\n",
       "      <th></th>\n",
       "      <th>Quantity</th>\n",
       "      <th>UnitPrice</th>\n",
       "      <th>CustomerID</th>\n",
       "    </tr>\n",
       "  </thead>\n",
       "  <tbody>\n",
       "    <tr>\n",
       "      <th>count</th>\n",
       "      <td>541909.000000</td>\n",
       "      <td>541909.000000</td>\n",
       "      <td>406829.000000</td>\n",
       "    </tr>\n",
       "    <tr>\n",
       "      <th>mean</th>\n",
       "      <td>9.552250</td>\n",
       "      <td>4.611114</td>\n",
       "      <td>15287.690570</td>\n",
       "    </tr>\n",
       "    <tr>\n",
       "      <th>std</th>\n",
       "      <td>218.081158</td>\n",
       "      <td>96.759853</td>\n",
       "      <td>1713.600303</td>\n",
       "    </tr>\n",
       "    <tr>\n",
       "      <th>min</th>\n",
       "      <td>-80995.000000</td>\n",
       "      <td>-11062.060000</td>\n",
       "      <td>12346.000000</td>\n",
       "    </tr>\n",
       "    <tr>\n",
       "      <th>25%</th>\n",
       "      <td>1.000000</td>\n",
       "      <td>1.250000</td>\n",
       "      <td>13953.000000</td>\n",
       "    </tr>\n",
       "    <tr>\n",
       "      <th>50%</th>\n",
       "      <td>3.000000</td>\n",
       "      <td>2.080000</td>\n",
       "      <td>15152.000000</td>\n",
       "    </tr>\n",
       "    <tr>\n",
       "      <th>75%</th>\n",
       "      <td>10.000000</td>\n",
       "      <td>4.130000</td>\n",
       "      <td>16791.000000</td>\n",
       "    </tr>\n",
       "    <tr>\n",
       "      <th>max</th>\n",
       "      <td>80995.000000</td>\n",
       "      <td>38970.000000</td>\n",
       "      <td>18287.000000</td>\n",
       "    </tr>\n",
       "  </tbody>\n",
       "</table>\n",
       "</div>"
      ],
      "text/plain": [
       "            Quantity      UnitPrice     CustomerID\n",
       "count  541909.000000  541909.000000  406829.000000\n",
       "mean        9.552250       4.611114   15287.690570\n",
       "std       218.081158      96.759853    1713.600303\n",
       "min    -80995.000000  -11062.060000   12346.000000\n",
       "25%         1.000000       1.250000   13953.000000\n",
       "50%         3.000000       2.080000   15152.000000\n",
       "75%        10.000000       4.130000   16791.000000\n",
       "max     80995.000000   38970.000000   18287.000000"
      ]
     },
     "execution_count": 9,
     "metadata": {},
     "output_type": "execute_result"
    }
   ],
   "source": [
    "# To have it in better and easy to play format we make a dataframe\n",
    "df = X.copy()\n",
    "df[\"target\"] = y\n",
    "df.describe()"
   ]
  },
  {
   "cell_type": "code",
   "execution_count": 11,
   "metadata": {},
   "outputs": [
    {
     "data": {
      "text/plain": [
       "((397884, 9), 397884)"
      ]
     },
     "execution_count": 11,
     "metadata": {},
     "output_type": "execute_result"
    }
   ],
   "source": [
    "# Drop bad rows\n",
    "df = df.dropna(subset=[\"CustomerID\"])\n",
    "df = df[(df[\"Quantity\"] > 0) & (df[\"UnitPrice\"] > 0)]\n",
    "\n",
    "\n",
    "# Parse datetime & basic features\n",
    "df[\"InvoiceDate\"] = pd.to_datetime(df[\"InvoiceDate\"])\n",
    "df[\"TotalPrice\"] = df[\"Quantity\"] * df[\"UnitPrice\"]\n",
    "df[\"InvoiceMonth\"] = df[\"InvoiceDate\"].dt.to_period(\"M\").dt.to_timestamp()\n",
    "df[\"Country\"] = df[\"Country\"].astype(\"category\")\n",
    "\n",
    "\n",
    "df.shape, df.isna().sum().sum()\n"
   ]
  },
  {
   "cell_type": "markdown",
   "metadata": {},
   "source": [
    "## 4) Descriptive statistics\n",
    "Compute mean, median, mode, variance, std for purchase metrics.\n"
   ]
  },
  {
   "cell_type": "code",
   "execution_count": 12,
   "metadata": {},
   "outputs": [
    {
     "data": {
      "text/html": [
       "<div>\n",
       "<style scoped>\n",
       "    .dataframe tbody tr th:only-of-type {\n",
       "        vertical-align: middle;\n",
       "    }\n",
       "\n",
       "    .dataframe tbody tr th {\n",
       "        vertical-align: top;\n",
       "    }\n",
       "\n",
       "    .dataframe thead th {\n",
       "        text-align: right;\n",
       "    }\n",
       "</style>\n",
       "<table border=\"1\" class=\"dataframe\">\n",
       "  <thead>\n",
       "    <tr style=\"text-align: right;\">\n",
       "      <th></th>\n",
       "      <th>mean</th>\n",
       "      <th>median</th>\n",
       "      <th>mode</th>\n",
       "      <th>variance</th>\n",
       "      <th>std</th>\n",
       "    </tr>\n",
       "  </thead>\n",
       "  <tbody>\n",
       "    <tr>\n",
       "      <th>Quantity</th>\n",
       "      <td>12.988238</td>\n",
       "      <td>6.00</td>\n",
       "      <td>1.00</td>\n",
       "      <td>32159.885511</td>\n",
       "      <td>179.331775</td>\n",
       "    </tr>\n",
       "    <tr>\n",
       "      <th>UnitPrice</th>\n",
       "      <td>3.116488</td>\n",
       "      <td>1.95</td>\n",
       "      <td>1.25</td>\n",
       "      <td>488.316152</td>\n",
       "      <td>22.097877</td>\n",
       "    </tr>\n",
       "    <tr>\n",
       "      <th>TotalPrice</th>\n",
       "      <td>22.397000</td>\n",
       "      <td>11.80</td>\n",
       "      <td>15.00</td>\n",
       "      <td>95524.908641</td>\n",
       "      <td>309.071041</td>\n",
       "    </tr>\n",
       "  </tbody>\n",
       "</table>\n",
       "</div>"
      ],
      "text/plain": [
       "                 mean  median   mode      variance         std\n",
       "Quantity    12.988238    6.00   1.00  32159.885511  179.331775\n",
       "UnitPrice    3.116488    1.95   1.25    488.316152   22.097877\n",
       "TotalPrice  22.397000   11.80  15.00  95524.908641  309.071041"
      ]
     },
     "execution_count": 12,
     "metadata": {},
     "output_type": "execute_result"
    }
   ],
   "source": [
    "summary_stats = df[[\"Quantity\", \"UnitPrice\", \"TotalPrice\"]].agg(\n",
    "    [\"mean\", \"median\", lambda x: x.mode().iloc[0] if not x.mode().empty else np.nan, \"var\", \"std\"]\n",
    ").T\n",
    "summary_stats.columns = [\"mean\", \"median\", \"mode\", \"variance\", \"std\"]\n",
    "summary_stats"
   ]
  },
  {
   "cell_type": "markdown",
   "metadata": {},
   "source": [
    "### Interpretation \n",
    "1. Mean vs. Median\n",
    "- Quantity: The mean (≈ 12.99) is much higher than the median (6.0), suggesting right-skewed data (a few large orders inflate the average).\n",
    "- UnitPrice: Mean ≈ 3.12, median ≈ 1.95 — indicates a similar skew: most products are cheaper, but some high-priced items pull the average up.\n",
    "- TotalPrice: Mean (≈ 22.4) is also larger than median (11.8), meaning large transactions occur but are less frequent.\n",
    "2. Mode\n",
    "- Quantity mode = 1 → most common purchase is a single unit.\n",
    "- UnitPrice mode = 1.25 → the most frequent price point in the catalog.\n",
    "- TotalPrice mode = 15.0 → likely corresponds to a typical low-volume order at that price.\n",
    "3. Variance & Standard Deviation\n",
    "- Large variances (especially for Quantity and TotalPrice) show high spread — transactions vary greatly in size and value.\n",
    "- UnitPrice has smaller std (~22), but still large relative to its mean, suggesting a few very expensive products exist.\n",
    "4. Business Insight\n",
    "- Most orders are small quantities, low price per unit.\n",
    "- The dataset contains rare but very large orders which affect averages.\n",
    "- Pricing strategy may be highly segmented — some low-cost, high-frequency items and a few premium, high-price products.\n"
   ]
  },
  {
   "cell_type": "code",
   "execution_count": null,
   "metadata": {},
   "outputs": [],
   "source": []
  }
 ],
 "metadata": {
  "interpreter": {
   "hash": "33900ae3eb727f818fb73a865b143589e97419858590e33bf7cf1776c481e1d5"
  },
  "kernelspec": {
   "display_name": "Python 3.8.8 ('base')",
   "language": "python",
   "name": "python3"
  },
  "language_info": {
   "codemirror_mode": {
    "name": "ipython",
    "version": 3
   },
   "file_extension": ".py",
   "mimetype": "text/x-python",
   "name": "python",
   "nbconvert_exporter": "python",
   "pygments_lexer": "ipython3",
   "version": "3.8.8"
  },
  "orig_nbformat": 4
 },
 "nbformat": 4,
 "nbformat_minor": 2
}
