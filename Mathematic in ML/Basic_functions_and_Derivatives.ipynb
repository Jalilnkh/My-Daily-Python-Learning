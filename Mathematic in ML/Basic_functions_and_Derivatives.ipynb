{
 "cells": [
  {
   "cell_type": "markdown",
   "id": "137fdc6e",
   "metadata": {},
   "source": [
    "# Functions in Python"
   ]
  },
  {
   "cell_type": "markdown",
   "id": "ae238367",
   "metadata": {},
   "source": [
    "We start with simple function $f\\left(x\\right) = x^2$"
   ]
  },
  {
   "cell_type": "code",
   "execution_count": 1,
   "id": "b15c3c1e",
   "metadata": {},
   "outputs": [
    {
     "data": {
      "text/plain": [
       "4"
      ]
     },
     "execution_count": 1,
     "metadata": {},
     "output_type": "execute_result"
    }
   ],
   "source": [
    "def f(x):\n",
    "    return x**2\n",
    "\n",
    "f(2)"
   ]
  },
  {
   "cell_type": "markdown",
   "id": "c90a885c",
   "metadata": {},
   "source": [
    "The derivative of this function $f\\left(x\\right) = x^2$ will be:"
   ]
  },
  {
   "cell_type": "code",
   "execution_count": 2,
   "id": "6b03a381",
   "metadata": {},
   "outputs": [
    {
     "name": "stdout",
     "output_type": "stream",
     "text": [
      "4\n"
     ]
    }
   ],
   "source": [
    "def dfdx(x):\n",
    "    return 2*x\n",
    "\n",
    "print(dfdx(2))"
   ]
  },
  {
   "cell_type": "code",
   "execution_count": null,
   "id": "28c8a9b5",
   "metadata": {},
   "outputs": [],
   "source": []
  }
 ],
 "metadata": {
  "kernelspec": {
   "display_name": "Python 3",
   "language": "python",
   "name": "python3"
  },
  "language_info": {
   "codemirror_mode": {
    "name": "ipython",
    "version": 3
   },
   "file_extension": ".py",
   "mimetype": "text/x-python",
   "name": "python",
   "nbconvert_exporter": "python",
   "pygments_lexer": "ipython3",
   "version": "3.10.12"
  }
 },
 "nbformat": 4,
 "nbformat_minor": 5
}
