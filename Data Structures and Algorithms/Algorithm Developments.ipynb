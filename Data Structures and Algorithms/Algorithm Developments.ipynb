{
 "cells": [
  {
   "cell_type": "markdown",
   "id": "64ddfc4e",
   "metadata": {},
   "source": [
    "# Data Structures and Algorithms\n",
    "Learn the core data structures and algorithms essential for building fast, efficient data science applications. This course covers arrays, hash tables, heaps, trees, graphs, and key algorithms like sorting and searching, all with a focus on practical data processing. Designed for anyone familiar with basic Python, no prior data science expertise required."
   ]
  },
  {
   "cell_type": "markdown",
   "id": "d00f4b8d",
   "metadata": {},
   "source": [
    "## An Introduction Through the Insertion Sort Algorithm\n",
    "The sort algorithm by itself is simple but the important thing is the way we are applying the idea. Here is the pseudocode of insertion sort:\n",
    "\n",
    "    for i from 1 to length(Arr):\n",
    "        for j=i-1\n",
    "            if Arr[j] > Arr[i]:\n",
    "                swap(Arr[j], Arr[i])\n",
    "            else:\n",
    "                break loop\n",
    "\n",
    "What we see here we start swaping from end to start insead of looking place of value from begning of Array.\n"
   ]
  },
  {
   "cell_type": "code",
   "execution_count": null,
   "id": "516e2f40",
   "metadata": {},
   "outputs": [],
   "source": [
    "from sorting import insertion_sort"
   ]
  },
  {
   "cell_type": "code",
   "execution_count": null,
   "id": "5930b6e3",
   "metadata": {},
   "outputs": [],
   "source": [
    "arr = [5, 2, 9, 1, 5, 6]\n",
    "sorted_arr = insertion_sort(arr)\n",
    "print(sorted_arr)"
   ]
  }
 ],
 "metadata": {
  "language_info": {
   "name": "python"
  }
 },
 "nbformat": 4,
 "nbformat_minor": 5
}
