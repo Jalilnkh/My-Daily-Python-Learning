{
 "cells": [
  {
   "cell_type": "markdown",
   "id": "64ddfc4e",
   "metadata": {},
   "source": [
    "# Data Structures and Algorithms\n",
    "Learn the core data structures and algorithms essential for building fast, efficient data science applications. This course covers arrays, hash tables, heaps, trees, graphs, and key algorithms like sorting and searching, all with a focus on practical data processing. Designed for anyone familiar with basic Python, no prior data science expertise required."
   ]
  },
  {
   "cell_type": "markdown",
   "id": "d00f4b8d",
   "metadata": {},
   "source": [
    "## An Introduction Through the Insertion Sort Algorithm\n",
    "The sort algorithm by itself is simple but the important thing is the way we are applying the idea. Here is the pseudocode of insertion sort:\n",
    "\n",
    "    for i from 1 to length(Arr):\n",
    "        for j=i-1\n",
    "            if Arr[j] > Arr[i]:\n",
    "                swap(Arr[j], Arr[i])\n",
    "            else:\n",
    "                break loop\n",
    "\n",
    "What we see here we start swaping from end to start insead of looking place of value from begning of Array.\n"
   ]
  },
  {
   "cell_type": "code",
   "execution_count": null,
   "id": "516e2f40",
   "metadata": {},
   "outputs": [],
   "source": [
    "from sorting import insertion_sort"
   ]
  },
  {
   "cell_type": "code",
   "execution_count": null,
   "id": "5930b6e3",
   "metadata": {},
   "outputs": [],
   "source": [
    "arr = [5, 2, 9, 1, 5, 6]\n",
    "sorted_arr = insertion_sort(arr)\n",
    "print(sorted_arr)"
   ]
  },
  {
   "cell_type": "markdown",
   "id": "f8512956",
   "metadata": {},
   "source": [
    "### Computational Cost of Insertion Sort algorithm:\n",
    "\n",
    "Time of processing:\n",
    "\n",
    "Speed:\n",
    "\n",
    "To calculate these we have to consider 2 things:\n",
    "\n",
    "- 1- independce of PC, Laptop processor\n",
    "- 2- worst case and best case computational cost\n",
    "\n",
    "\n",
    "### Best Case:\n",
    "If every time in secod loop we just run it once and it should be `break`.\n",
    "\n",
    "Then it will be just one for loop: `O(n)`\n",
    "\n",
    "For worst case:\n",
    "\n",
    "`O(n^2)`"
   ]
  },
  {
   "cell_type": "markdown",
   "id": "abc91d47",
   "metadata": {},
   "source": [
    "### How to decide which algorithm is the best for a problem?\n",
    "\n",
    "- First we should look what we care here?\n",
    "    - Time\n",
    "    - Space: memory consumtion\n",
    "\n",
    "- Second we should look what is input ?\n",
    "- How do we measure time?\n",
    "- Who is implemented the Algorithm?\n",
    "- What languages are used to implement?\n",
    "\n",
    "To make it simple we will just measure `number of basic operation` an algorithm is doing during solving the problem.\n",
    "\n",
    "The other important this is to know what is computational cost when input size is large or goes infinitive or Asymptotic case?\n",
    "\n",
    "\n",
    "### Asymptotic Analysis:\n",
    "\n",
    "It is a system to compare algorithms.\n",
    "\n",
    "It simplifies analysis by focusing on the growth rate and ignoring constant factors and lower-order terms, often using notations like Big O to compare performance in terms of best, average, and worst-case scenarios.  \n",
    "So for example if an algorithm computational cost is O(n^2 * 200000) and other algorithm is O(n^2 * 0.000002), they have the same computational cost.\n",
    "or if an algorithm ( call it A1) computational cost is O(n^2 * 200000) and other algorithm (call it B1) is O(n^3 * 0.000002), eventually in bigger input size B1 will have bigger computational cost.\n",
    "if:\n",
    "\n",
    "- f(n) = n^2\n",
    "- g(n) = n^3\n",
    "- h(n) = n^2\n",
    "\n",
    "then:\n",
    "\n",
    "- f = Omega(g) \n",
    "- g = BigO(f)\n",
    "- h = Teta(f)\n"
   ]
  },
  {
   "cell_type": "markdown",
   "id": "b22e578f",
   "metadata": {},
   "source": []
  }
 ],
 "metadata": {
  "language_info": {
   "name": "python"
  }
 },
 "nbformat": 4,
 "nbformat_minor": 5
}
