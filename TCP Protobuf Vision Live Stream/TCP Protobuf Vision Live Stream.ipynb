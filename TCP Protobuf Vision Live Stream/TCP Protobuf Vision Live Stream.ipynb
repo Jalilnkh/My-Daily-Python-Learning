{
 "cells": [
  {
   "cell_type": "markdown",
   "metadata": {},
   "source": [
    "# Protobuf Schema for Image, Feature 1, and Feature 2\n",
    "Below is a step-by-step guide to send crop images and extracted features over TCP/UDP using Protocol Buffers (Protobuf) for encoding."
   ]
  },
  {
   "cell_type": "markdown",
   "metadata": {},
   "source": [
    "Since we now have an image, Feature 1 (containing integers & another list), and Feature 2 (containing floats), we need to write code accordingly:"
   ]
  },
  {
   "cell_type": "markdown",
   "metadata": {},
   "source": [
    "### Steps Overview\n",
    "- [ 1 - Define a Protobuf Schema (.proto file) to structure the message.](#1)\n",
    "- [ 2 - Compile the Protobuf file to generate Python code.](#2)\n",
    "- [ 3 - Create the server (receiver) to listen for incoming data.](#3)\n",
    "- [ 4 - Create the client (sender) to send the image and feature data.](#4)\n",
    "- [ 5 - Implement encoding/decoding using Protobuf.](#5)\n",
    "- [ 6 - Send data over TCP or UDP in a real-time stream.](#6)"
   ]
  },
  {
   "cell_type": "markdown",
   "metadata": {},
   "source": [
    "<a name='1'></a>\n",
    "## Step 1: Define the Protobuf Schema\n",
    "Create a data.proto file to define the structure of the message."
   ]
  },
  {
   "cell_type": "code",
   "execution_count": null,
   "metadata": {
    "vscode": {
     "languageId": "plaintext"
    }
   },
   "outputs": [],
   "source": [
    "syntax = \"proto3\";\n",
    "\n",
    "message ImageFeatureData {\n",
    "  bytes image_data = 1;\n",
    "  repeated float features = 2;\n",
    "}"
   ]
  },
  {
   "cell_type": "markdown",
   "metadata": {},
   "source": [
    "This message will:\n",
    "\n",
    "- Store the image data as bytes.\n",
    "- Store the feature vector as a repeated list of floats."
   ]
  },
  {
   "cell_type": "markdown",
   "metadata": {},
   "source": [
    "<a name='2'></a>\n",
    "\n",
    "## Step 2: Compile the Protobuf File\n",
    "Run the following command to generate Python code:"
   ]
  },
  {
   "cell_type": "code",
   "execution_count": null,
   "metadata": {
    "vscode": {
     "languageId": "plaintext"
    }
   },
   "outputs": [],
   "source": [
    "protoc --python_out=. --proto_path=. data.proto"
   ]
  },
  {
   "cell_type": "markdown",
   "metadata": {},
   "source": [
    "### Note: You might get error so you could install protobu with following commend:\n",
    "\n",
    "    sudo snap install protobuf  --classic"
   ]
  },
  {
   "cell_type": "markdown",
   "metadata": {},
   "source": [
    "<a name='3'></a>\n"
   ]
  },
  {
   "cell_type": "markdown",
   "metadata": {},
   "source": [
    "<a name='4'></a>\n"
   ]
  },
  {
   "cell_type": "markdown",
   "metadata": {},
   "source": [
    "<a name='5'></a>\n"
   ]
  },
  {
   "cell_type": "markdown",
   "metadata": {},
   "source": [
    "<a name='6'></a>\n"
   ]
  },
  {
   "cell_type": "markdown",
   "metadata": {},
   "source": []
  }
 ],
 "metadata": {
  "language_info": {
   "name": "python"
  }
 },
 "nbformat": 4,
 "nbformat_minor": 2
}
