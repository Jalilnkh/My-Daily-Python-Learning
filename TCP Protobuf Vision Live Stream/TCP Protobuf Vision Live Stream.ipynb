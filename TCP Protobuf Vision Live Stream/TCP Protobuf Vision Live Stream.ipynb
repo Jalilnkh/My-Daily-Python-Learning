{
 "cells": [
  {
   "cell_type": "markdown",
   "metadata": {},
   "source": [
    "# Protobuf Schema for Image, Feature 1, and Feature 2\n",
    "Below is a step-by-step guide to send crop images and extracted features over TCP/UDP using Protocol Buffers (Protobuf) for encoding."
   ]
  },
  {
   "cell_type": "markdown",
   "metadata": {},
   "source": [
    "Since we now have an image, Feature 1 (containing integers & another list), and Feature 2 (containing floats), we need to write code accordingly:"
   ]
  },
  {
   "cell_type": "code",
   "execution_count": null,
   "metadata": {
    "vscode": {
     "languageId": "plaintext"
    }
   },
   "outputs": [],
   "source": []
  }
 ],
 "metadata": {
  "language_info": {
   "name": "python"
  }
 },
 "nbformat": 4,
 "nbformat_minor": 2
}
